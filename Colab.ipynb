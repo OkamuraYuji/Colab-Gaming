{
  "nbformat": 4,
  "nbformat_minor": 0,
  "metadata": {
    "colab": {
      "provenance": [],
      "gpuType": "T4"
    },
    "kernelspec": {
      "name": "python3",
      "display_name": "Python 3"
    },
    "language_info": {
      "name": "python"
    },
    "accelerator": "GPU"
  },
  "cells": [
    {
      "cell_type": "code",
      "source": [
        "# @title **💻 Colab Cloud Gaming**\n",
        "\n",
        "!curl -O https://raw.githubusercontent.com/OkamuraYuji/Colab-Gaming/refs/heads/main/app.py\n",
        "!python app.py\n",
        "!clear"
      ],
      "metadata": {
        "cellView": "form",
        "id": "ZNRpPD9zDOTF"
      },
      "execution_count": null,
      "outputs": []
    }
  ]
}
